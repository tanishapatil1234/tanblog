{
 "cells": [
  {
   "cell_type": "markdown",
   "metadata": {},
   "source": [
    "---\n",
    "- title: Spring/Thymeleaf Lesson\n",
    "- author: david\n",
    "- categories: [Lab Notebook]\n",
    "- tags: [Java, Backend]\n",
    "- type: hacks\n",
    "- week: 16\n",
    "- description: The Divorced Coders teaching Spring/Thymeleaf for Period 3 CSA\n",
    "- toc: True\n",
    "- comments: True\n",
    "- date: 2023-12-12 12:00:00 +0000\n",
    "---"
   ]
  },
  {
   "cell_type": "markdown",
   "metadata": {},
   "source": [
    "# Spring/Thymeleaf Lesson\n",
    "\n",
    "## Lesson Objectives:\n",
    "* Understand the role of Thymeleaf in server-side rendering.\n",
    "* Learn how to integrate Thymeleaf with the Spring Framework.\n",
    "* Implement a sign-in page using Thymeleaf for securing specific API endpoints.\n",
    "\n",
    "## Introduction:\n",
    "* Briefly introduce the concept of server-side rendering and its advantages.\n",
    "* Discuss the role of template engines in generating dynamic HTML.\n",
    "* Introduce Thymeleaf as a template engine for Java Spring.\n",
    "\n",
    "\n",
    "# What is Spring?\n",
    "\n",
    "## Unveiling the Power of the Spring Framework\n",
    "\n",
    "### Basics of Spring:\n",
    "\n",
    "**Spring** is a comprehensive, open-source framework for building robust and scalable Java-based applications. It provides a structured and modular approach to application development, addressing challenges in various domains such as enterprise, web, and microservices.\n",
    "\n",
    "## Why Choose Spring for Backend Development?\n",
    "\n",
    "Simplified Configuration: Spring reduces the complexity of configuration through XML-based or annotation-driven approaches. This simplifies application setup and promotes a more straightforward development process.\n",
    "\n",
    "Extensive Ecosystem: Spring offers a vast ecosystem of modules that cater to different aspects of application development. Modules like Spring MVC for web development, Spring Security for authentication and authorization, and Spring Data for database access enhance productivity.\n",
    "\n",
    "Integrated Testing Support: Spring's design encourages the use of interfaces and dependency injection, making it easier to test components in isolation. This promotes the development of unit tests and ensures the reliability of the application."
   ]
  },
  {
   "cell_type": "markdown",
   "metadata": {},
   "source": [
    "# Spring Boot's Auto-Configuration for Thymeleaf\n",
    "\n",
    "When you add Thymeleaf to your Spring Boot project, it automatically configures the necessary beans and settings.\n",
    "\n",
    "Key Points:\n",
    "\n",
    "- Spring Boot detects the presence of spring-boot-starter-thymeleaf in your classpath.\n",
    "- It automatically sets up a TemplateEngine, \n",
    "- TemplateResolver, and ViewResolver for Thymeleaf.\n",
    "\n",
    "## Basic Structure of Thymeleaf Templates\n",
    "\n",
    "Thymeleaf templates are essentially HTML5 files with additional attributes for dynamic content.\n",
    "\n",
    "Typical Template Location:\n",
    "\n",
    "- Thymeleaf templates are typically located in src/main resources/templates in a Spring Boot project.\n"
   ]
  },
  {
   "cell_type": "markdown",
   "metadata": {},
   "source": [
    "## Popcorn Hack:\n",
    "Summarize the key features of Thymeleaf and explain why it is preferred for server-side rendering in Spring applications.\n",
    "\n",
    "Key Points:\n",
    "\n",
    "1. Detecting Thymeleaf (Auto-Configuration): Spring Boot discerns Thymeleaf's inclusion within the project by scrutinizing the presence of 'spring-boot-starter-thymeleaf.'\n",
    "\n",
    "2. Setting up the Environment (Auto-Configuration): Once Thymeleaf's participation is acknowledged, Spring Boot assumes the role of facilitator, orchestrating critical elements such as the TemplateEngine (akin to managing musical ambiance), TemplateResolver (analogous to spatial arrangement), and ViewResolver (responsible for presenting the final output).\n",
    "\n",
    "Basic Structure of Thymeleaf Templates:\n",
    "\n",
    "1. Structured Documents (HTML5 files): Thymeleaf templates are akin to meticulously composed invitations. Though fundamentally HTML files, they incorporate additional directives to introduce dynamism and sophistication.\n",
    "\n",
    "2. Designated Repository (Template Location): Thymeleaf templates find their place in a designated repository within the project, typically located in 'src/main/resources/templates.'"
   ]
  },
  {
   "cell_type": "markdown",
   "metadata": {},
   "source": [
    "# Spring Boot's Auto-Configuration for Thymeleaf\n",
    "\n",
    "When you add Thymeleaf to your Spring Boot project, it automatically configures the necessary beans and settings.\n",
    "\n",
    "Key Points:\n",
    "\n",
    "- Spring Boot detects the presence of spring-boot-starter-thymeleaf in your classpath.\n",
    "- It automatically sets up a TemplateEngine, \n",
    "- TemplateResolver, and ViewResolver for Thymeleaf.\n",
    "\n",
    "## Basic Structure of Thymeleaf Templates\n",
    "\n",
    "Thymeleaf templates are essentially HTML5 files with additional attributes for dynamic content.\n",
    "\n",
    "Typical Template Location:\n",
    "\n",
    "- Thymeleaf templates are typically located in src/main resources/templates in a Spring Boot project.\n",
    "\n",
    "### example:"
   ]
  },
  {
   "cell_type": "code",
   "execution_count": null,
   "metadata": {
    "vscode": {
     "languageId": "html"
    }
   },
   "outputs": [],
   "source": [
    "\n",
    "<!DOCTYPE html>\n",
    "<html xmlns:th=\"http://www.thymeleaf.org\">\n",
    "<head>\n",
    "    <title>Title</title>\n",
    "</head>\n",
    "<body>\n",
    "    <h1 th:text=\"${message}\">Welcome Message</h1>\n",
    "</body>\n",
    "</html>\n"
   ]
  },
  {
   "cell_type": "markdown",
   "metadata": {},
   "source": [
    "Thymeleaf Expression Language (EL) is used to perform operations and display data within the template.\n",
    "\n",
    "Syntax:\n",
    "\n",
    "Basic syntax is ${...} for variables.\n",
    "You can also use *{...} for objects (known as the selection variable), #{...} for messages, @{...} for URLs, and more.\n",
    "\n",
    "### example:"
   ]
  },
  {
   "cell_type": "code",
   "execution_count": null,
   "metadata": {
    "vscode": {
     "languageId": "html"
    }
   },
   "outputs": [],
   "source": [
    "\n",
    "<p th:text=\"${user.name}\">Default Name</p>\n",
    "<p th:text=\"${user.age}\">Default Age</p>\n"
   ]
  },
  {
   "cell_type": "markdown",
   "metadata": {},
   "source": [
    "# How You Would Implement Thymeleaf in the Backend.\n",
    "\n",
    "- Through the use of Controller wihtin the backend it is clearly displayed that the thymeleaf works best in which is where it can be defined to get outputs fom a specific outupts from data stored within the backend"
   ]
  },
  {
   "cell_type": "markdown",
   "metadata": {},
   "source": [
    "# How does Thymleaf work in the backend \n",
    "\n",
    "- Thymeleaf is a framework within the backend spring set through the java controllers which ultimatley, allow you to develop html with attributes from the backend making for a more uer interactive base. All in All this means that Thymleaf is a way to get CRUD functionalities with a set of commands within the HTML."
   ]
  },
  {
   "cell_type": "code",
   "execution_count": null,
   "metadata": {
    "vscode": {
     "languageId": "java"
    }
   },
   "outputs": [],
   "source": [
    "// Here is a Set of Sample Backend Code you may want to run in a Spring in Jupyter Notebooks is giving you a Hard Time. \n",
    "import org.springframework.stereotype.Controller;\n",
    "import org.springframework.ui.Model;\n",
    "import org.springframework.web.bind.annotation.GetMapping;\n",
    "\n",
    "@Controller\n",
    "public class UserController {\n",
    "\n",
    "    @GetMapping(\"/user\")\n",
    "    public String getUser(Model model)  // allowed to pass data \n",
    "     {\n",
    "   \n",
    "        String username = \"John Doe\";\n",
    "        int age = 30;\n",
    "        String email = \"johndoe@example.com\";\n",
    "\n",
    "        // Adding user data to the Model\n",
    "        model.addAttribute(\"username\", username);// the model. makes thymleaf data applicable for rendering\n",
    "        model.addAttribute(\"age\", age);\n",
    "        model.addAttribute(\"email\", email);\n",
    "\n",
    "        // Return the name of the Thymeleaf template\n",
    "        return \"userProfile\";\n",
    "    }\n",
    "}"
   ]
  },
  {
   "cell_type": "markdown",
   "metadata": {},
   "source": [
    "# Popcorn Hacks\n",
    "- What do you think the Model model means and why is it important \n",
    "    - Model acts as a bridge between the controller and the view, allowing the controller to pass data to the view for presentation. It enables a clean separation of concerns in the MVC architecture, where the controller handles the logic and the model provides the data for rendering in the view. In the context of Thymeleaf and Spring, the Model is instrumental in achieving dynamic and data-driven web page rendering."
   ]
  },
  {
   "cell_type": "markdown",
   "metadata": {},
   "source": [
    "# Examples With Thymeleaf Syntax in the Frontend. "
   ]
  },
  {
   "cell_type": "code",
   "execution_count": null,
   "metadata": {
    "vscode": {
     "languageId": "html"
    }
   },
   "outputs": [],
   "source": [
    "\n",
    "<!-- Define the document type and introduce the Thymeleaf namespace  ultimatley to allow thymeleaf commands-->\n",
    "<html lang=\"en\" xmlns:th=\"http://www.thymeleaf.org\">\n",
    "<head>\n",
    "    <!-- Define the character encoding -->\n",
    "    <meta charset=\"UTF-8\">\n",
    "    <!-- Title of the HTML page -->\n",
    "    <title>User Profile</title>\n",
    "</head>\n",
    "<body>\n",
    "    <!-- Heading for the user profile page -->\n",
    "    <h1>User Profile</h1>\n",
    "    <!-- Thymeleaf conditional block: Display if 'username' exists -->\n",
    "    <div th:if=\"${username}\">\n",
    "        <!-- Display Username with the value of the 'username' variable -->\n",
    "        <p th:text=\"'Username: ' + ${username}\"></p>\n",
    "        <!-- Display Age with the value of the 'age' variable -->\n",
    "        <p th:text=\"'Age: ' + ${age}\"></p>\n",
    "        <!-- Display Email with the value of the 'email' variable -->\n",
    "        <p th:text=\"'Email: ' + ${email}\"></p>\n",
    "</div>\n",
    " <!-- Thymeleaf conditional block: Display if 'username' does not exist -->\n",
    " <div th:unless=\"${username}\">\n",
    "        <!-- Display a message when 'username' doesn't exist -->\n",
    "        <p>No user data available.</p>\n",
    "    </div>\n",
    "</body>\n",
    "</html>"
   ]
  },
  {
   "cell_type": "markdown",
   "metadata": {},
   "source": [
    "## Here Are A list of Specifics Thymeleaf applications wihtin the frontend. \n",
    "\n",
    "1. **th:text**: Sets the text content of an element. `<p th:text=\"${variable}\">Default Text</p>`\n",
    "\n",
    "2. **th:utext**: Similar to `th:text`, but does not escape HTML characters. `<p th:utext=\"${unescapedHTML}\">Default HTML</p>`\n",
    "\n",
    "3. **th:if, th:unless**: Conditional rendering of elements. `<div th:if=\"${condition}\">Render if true</div> <div th:unless=\"${condition}\">Render if false</div>`\n",
    "\n",
    "4. **th:each**: Iterates over collections. `<ul><li th:each=\"item : ${items}\" th:text=\"${item}\"></li></ul>`\n",
    "\n",
    "5. **th:object, th:field**: Binds form fields to a model object for form handling. `<form th:object=\"${user}\" th:action=\"@{/save}\" method=\"post\"><input type=\"text\" th:field=\"*{username}\" /><button type=\"submit\">Submit</button></form>`\n",
    "\n",
    "6. **th:href**: Creates links within the application. `<a th:href=\"@{/home}\">Home</a>`\n",
    "\n",
    "7. **th:class**: Sets CSS classes conditionally. `<div th:class=\"${condition} ? 'active' : 'inactive'\">Element</div>`\n"
   ]
  },
  {
   "cell_type": "markdown",
   "metadata": {},
   "source": [
    "### PopCorn Hack \n",
    "- List 3 more Attributes of Thymleaf in the Frontend\n",
    "1. th:text: With this attribute, you can insert dynamic text content into an HTML element. For example, if you have a user's name, it replaces a default text with the actual name.\n",
    "2. th:if and th:unless: These attributes control conditional rendering. th:if displays content if a condition is true, while th:unless displays it unless the condition is true. For instance, you can show a special greeting for admin users.\n",
    "3. th:each: This attribute helps in iterating over a collection, like a list. It allows you to repeat HTML elements for each item in the collection. For example, you can create a list of books and display their titles."
   ]
  },
  {
   "cell_type": "markdown",
   "metadata": {},
   "source": [
    "# Specific HTML Attributes within Thymeleaf\n",
    "- text substitution, conditional rendering, and iteration."
   ]
  },
  {
   "cell_type": "markdown",
   "metadata": {},
   "source": [
    "### Text Substitution \n",
    "- The usage of text substitution is an act of replacing text or content within HTML elements based on values provided by the server-side application. In Thymeleaf, it's achieved using attributes like th:text or th:utext.\n",
    "\n",
    "\n",
    "PopCorn Hack: explain what the following code is doing:"
   ]
  },
  {
   "cell_type": "code",
   "execution_count": null,
   "metadata": {
    "vscode": {
     "languageId": "html"
    }
   },
   "outputs": [],
   "source": [
    "<!-- Declare HTML document with language and Thymeleaf namespace -->\n",
    "<html lang=\"en\" xmlns:th=\"http://www.thymeleaf.org\">\n",
    "\n",
    "<head>\n",
    "    <!-- Specify character set and set title -->\n",
    "    <meta charset=\"UTF-8\">\n",
    "    <title>Text Substitution Example</title>\n",
    "</head>\n",
    "\n",
    "<body>\n",
    "    <!-- Display a welcome message with a dynamic username -->\n",
    "    <h1>Welcome, <span th:text=\"${username}\">Guest</span>!</h1>\n",
    "    <!-- If 'username' exists in the model, it will replace 'Guest' -->\n",
    "</body>\n",
    "\n",
    "</html>"
   ]
  },
  {
   "cell_type": "markdown",
   "metadata": {},
   "source": [
    "### Conditional Rendering \n",
    "\n",
    "- Conditional Rendering: This feature allows displaying or hiding content based on certain conditions. Thymeleaf provides attributes like th:if and th:unless to conditionally render HTML elements.\n",
    "\n",
    "PopCorn Hack: explain what the following code below is doing:\n"
   ]
  },
  {
   "cell_type": "code",
   "execution_count": null,
   "metadata": {
    "vscode": {
     "languageId": "html"
    }
   },
   "outputs": [],
   "source": [
    "<!-- Declare HTML document with language and Thymeleaf namespace -->\n",
    "<!DOCTYPE html>\n",
    "<html lang=\"en\" xmlns:th=\"http://www.thymeleaf.org\">\n",
    "\n",
    "<head>\n",
    "    <!-- Specify character set and set title -->\n",
    "    <meta charset=\"UTF-8\">\n",
    "    <title>Conditional Rendering Example</title>\n",
    "</head>\n",
    "\n",
    "<body>\n",
    "    <!-- Conditionally render a welcome message based on the 'isAdmin' attribute in the model -->\n",
    "    <div th:if=\"${isAdmin}\">\n",
    "        <p>Welcome, Admin!</p>\n",
    "    </div>\n",
    "    <!-- If 'isAdmin' is true, display the Admin welcome message -->\n",
    "\n",
    "    <div th:unless=\"${isAdmin}\">\n",
    "        <p>Welcome, User!</p>\n",
    "    </div>\n",
    "    <!-- If 'isAdmin' is false, display the User welcome message -->\n",
    "</body>\n",
    "\n",
    "</html>\n"
   ]
  },
  {
   "cell_type": "markdown",
   "metadata": {},
   "source": [
    "# An example with Password and Security "
   ]
  },
  {
   "cell_type": "code",
   "execution_count": null,
   "metadata": {
    "vscode": {
     "languageId": "html"
    }
   },
   "outputs": [],
   "source": [
    "<div th:if=\"${password.length() < 8}\">\n",
    "    <p>Password must be at least 8 characters long.</p>\n",
    "</div>\n",
    "<div th:if=\"${password.length() >= 8}\">\n",
    "    <p>Password is strong.</p>\n",
    "</div>\n"
   ]
  },
  {
   "cell_type": "markdown",
   "metadata": {},
   "source": [
    "### Iteration\n",
    "- Iteration: It involves looping through collections or arrays of data to render dynamic content multiple times. Thymeleaf offers the th:each attribute for iterating over collections and rendering content for each item within the collection.\n",
    "\n",
    "PopCorn Hack Explain What this is Doing:"
   ]
  },
  {
   "cell_type": "code",
   "execution_count": null,
   "metadata": {
    "vscode": {
     "languageId": "html"
    }
   },
   "outputs": [],
   "source": [
    "<!-- Declare HTML document with language and Thymeleaf namespace -->\n",
    "<html lang=\"en\" xmlns:th=\"http://www.thymeleaf.org\">\n",
    "\n",
    "<head>\n",
    "    <!-- Specify character set and set title -->\n",
    "    <meta charset=\"UTF-8\">\n",
    "    <title>Iteration Example</title>\n",
    "</head>\n",
    "\n",
    "<body>\n",
    "    <!-- Iterate over a collection of items and display them in an unordered list -->\n",
    "    <ul>\n",
    "        <!-- Thymeleaf iteration: For each element in ${items}, -->\n",
    "        <!-- Thymeleaf assigns the current element to a local variable named item. -->\n",
    "        <!-- It iterates through all the elements present in the ${items} collection. -->\n",
    "        <li th:each=\"item : ${items}\" th:text=\"${item}\">Default Item</li>\n",
    "    </ul>\n",
    "</body>\n",
    "\n",
    "</html>\n"
   ]
  },
  {
   "cell_type": "markdown",
   "metadata": {},
   "source": [
    "## Hacks\n",
    "- Complete Popcorn Hacks\n",
    "- Create a controller that uses the model function, then in html use the methods in Thymeleaf that were taught \n",
    "- Extra Points For Creativity."
   ]
  },
  {
   "cell_type": "code",
   "execution_count": null,
   "metadata": {
    "vscode": {
     "languageId": "java"
    }
   },
   "outputs": [],
   "source": [
    "import org.springframework.stereotype.Controller;\n",
    "import org.springframework.ui.Model;\n",
    "import org.springframework.web.bind.annotation.GetMapping;\n",
    "\n",
    "import java.util.ArrayList;\n",
    "import java.util.List;\n",
    "\n",
    "@Controller\n",
    "public class BookController {\n",
    "\n",
    "    @GetMapping(\"/books\")\n",
    "    public String getBooks(Model model) {\n",
    "        // Simulating a list of books\n",
    "        List<Book> books = new ArrayList<>();\n",
    "        books.add(new Book(\"The Great Gatsby\", \"F. Scott Fitzgerald\"));\n",
    "        books.add(new Book(\"To Kill a Mockingbird\", \"Harper Lee\"));\n",
    "        books.add(new Book(\"1984\", \"George Orwell\"));\n",
    "\n",
    "        // Adding the list of books to the model\n",
    "        model.addAttribute(\"books\", books);\n",
    "\n",
    "        // Return the name of the Thymeleaf template\n",
    "        return \"bookList\";\n",
    "    }\n",
    "}\n"
   ]
  },
  {
   "cell_type": "code",
   "execution_count": null,
   "metadata": {
    "vscode": {
     "languageId": "html"
    }
   },
   "outputs": [],
   "source": [
    "<!DOCTYPE html>\n",
    "<html lang=\"en\" xmlns:th=\"http://www.thymeleaf.org\">\n",
    "<head>\n",
    "    <meta charset=\"UTF-8\">\n",
    "    <title>Book List</title>\n",
    "</head>\n",
    "<body>\n",
    "\n",
    "    <h1>Welcome to Our Bookstore!</h1>\n",
    "\n",
    "    <!-- Thymeleaf iteration: Display each book in an unordered list -->\n",
    "    <ul th:if=\"${not #lists.isEmpty(books)}\">\n",
    "        <li th:each=\"book : ${books}\">\n",
    "            <!-- Thymeleaf attributes for dynamic content -->\n",
    "            <p th:text=\"${book.title + ' by ' + book.author}\">Default Book</p>\n",
    "        </li>\n",
    "    </ul>\n",
    "    \n",
    "    <!-- Thymeleaf conditional rendering: Display a message if no books are available -->\n",
    "    <p th:if=\"${#lists.isEmpty(books)}\">Sorry, no books available at the moment.</p>\n",
    "\n",
    "</body>\n",
    "</html>\n"
   ]
  },
  {
   "cell_type": "markdown",
   "metadata": {},
   "source": [
    "## Introduction to Spring Security\n",
    "Spring Security is a robust framework designed to handle authentication, authorization, and various other security aspects in Java applications. Today, we'll focus on its role in securing API endpoints.\n",
    "Securing API endpoints is crucial to safeguard sensitive resources and functionalities from unauthorized access. Spring Security provides a flexible and customizable solution for implementing security measures within your applications."
   ]
  },
  {
   "cell_type": "markdown",
   "metadata": {},
   "source": [
    "### Thymeleaf Template:\n",
    "\n",
    "Creating a Thymeleaf template for the sign-in page is like designing the look of the entrance. Let's make it user-friendly and straightforward.\n",
    "\n",
    "\n",
    "This is like the design of the sign-in form, telling users what to fill in."
   ]
  },
  {
   "cell_type": "code",
   "execution_count": null,
   "metadata": {
    "vscode": {
     "languageId": "html"
    }
   },
   "outputs": [],
   "source": [
    "<!DOCTYPE html>\n",
    "<html lang=\"en\" xmlns:th=\"http://www.thymeleaf.org\">\n",
    "<head>\n",
    "    <meta charset=\"UTF-8\">\n",
    "    <meta name=\"viewport\" content=\"width=device-width, initial-scale=1.0\">\n",
    "    <title>Admin Sign In</title>\n",
    "</head>\n",
    "<body>\n",
    "\n",
    "    <h2>Admin Sign In</h2>\n",
    "\n",
    "    <form th:action=\"@{/login}\" method=\"post\">\n",
    "        <label for=\"username\">Username:</label>\n",
    "        <input type=\"text\" id=\"username\" name=\"username\" required>\n",
    "\n",
    "        <label for=\"password\">Password:</label>\n",
    "        <input type=\"password\" id=\"password\" name=\"password\" required>\n",
    "\n",
    "        <button type=\"submit\">Sign In</button>\n",
    "    </form>\n",
    "\n",
    "</body>\n",
    "</html>"
   ]
  },
  {
   "cell_type": "markdown",
   "metadata": {},
   "source": [
    "## Comprehensive:"
   ]
  },
  {
   "cell_type": "code",
   "execution_count": null,
   "metadata": {
    "vscode": {
     "languageId": "html"
    }
   },
   "outputs": [],
   "source": [
    "<!-- This page is illustrative and contains ideas about HTML formatting -->\n",
    "<!DOCTYPE HTML>\n",
    "<!-- Signals to the Layout Dialect which layout should be used to decorate this View -->\n",
    "<html xmlns:layout=\"http://www.w3.org/1999/xhtml\" xmlns:th=\"http://www.w3.org/1999/xhtml\"\n",
    "      layout:decorate=\"~{layouts/base}\" lang=\"en\">\n",
    "\n",
    "<head>\n",
    "    <!-- Page specific head additions -->\n",
    "    <title>Login</title>\n",
    "</head>\n",
    "\n",
    "<body>\n",
    "<th:block layout:fragment=\"body\" th:remove=\"tag\">\n",
    "\n",
    "    <div class=\"container py-4\">\n",
    "        <header class=\"pb-3 mb-4 border-bottom border-primary text-dark\">\n",
    "            <span class=\"fs-4\">Login Page</span>\n",
    "        </header>\n",
    "    </div>\n",
    "\n",
    "    <div class=\"container py-4 text-light bg-success\">\n",
    "\n",
    "        <div class=\"container bg-secondary py-4\">\n",
    "            <div class=\"p-5 mb-4 bg-light text-dark rounded-3\">\n",
    "                <h1>Login</h1>\n",
    "                <label for=\"email\">Username:</label><br>\n",
    "                <input type=\"text\" id=\"username\" name=\"username\"><br>\n",
    "                <label for=\"password\">Password:</label><br>\n",
    "                <input type=\"text\" id=\"password\" name=\"password\"><br><br>\n",
    "                <input type=\"submit\" value=\"Login\" onclick=\"login()\">\n",
    "                <p id=\"message\"></p>\n",
    "            </div>\n",
    "        </div>\n",
    "        <script>\n",
    "            function login() {\n",
    "                var email = document.getElementById('username').value;\n",
    "                var password = document.getElementById('password').value;\n",
    "                var data = {email:email, password:password};\n",
    "                fetch(\"/human/authenticate\", {method: 'POST', headers: {'Content-Type': 'application/json'}, body: JSON.stringify(data)}).then((data) => { //handling authentication\n",
    "                    if (data.status == 200) {\n",
    "                        window.location.replace(\"/mvc/person/read\");\n",
    "                    } else {\n",
    "                        document.getElementById('message').innerHTML = \"Invalid email or password\"\n",
    "                    }\n",
    "                });\n",
    "            }\n",
    "        </script>\n",
    "\n",
    "    </div>\n",
    "\n",
    "</th:block>\n",
    "</body>"
   ]
  },
  {
   "cell_type": "markdown",
   "metadata": {},
   "source": [
    "## API View Controller: \n"
   ]
  },
  {
   "cell_type": "code",
   "execution_count": null,
   "metadata": {
    "vscode": {
     "languageId": "html"
    }
   },
   "outputs": [],
   "source": [
    "<!DOCTYPE HTML>\n",
    "<html xmlns:layout=\"http://www.w3.org/1999/xhtml\" xmlns:th=\"http://www.w3.org/1999/xhtml\"\n",
    "      layout:decorate=\"~{layouts/base}\" lang=\"en\">\n",
    "\n",
    "<head>\n",
    "    <title>Person List</title>\n",
    "</head>\n",
    "\n",
    "<body>\n",
    "<th:block layout:fragment=\"body\" th:remove=\"tag\">\n",
    "    <div class=\"container py-4 bg-primary\">\n",
    "        <header class=\"pb-3 mb-4 border-bottom\">\n",
    "            <a href=\"#\" class=\"d-flex align-items-center text-light text-decoration-none\">\n",
    "                <span class=\"fs-4\">Database SQL Person</span>\n",
    "            </a>\n",
    "        </header>\n",
    "\n",
    "        <div class=\"container py-4 text-light bg-success\">\n",
    "\n",
    "            <h2>Person Viewer</h2>\n",
    "            <a th:href=\"@{/mvc/person/create/}\">Create Person</a>\n",
    "            <div class=\"row align-items-md-stretch\">\n",
    "                <table class=\"table\">\n",
    "                    <thead>\n",
    "                    <tr>\n",
    "                        <th>ID</th>\n",
    "                        <th>User ID</th>\n",
    "                        <th>Person</th>\n",
    "                        <th>Age</th>\n",
    "                        <th>Action</th>\n",
    "                    </tr>\n",
    "                    </thead>\n",
    "                    <tbody>\n",
    "                    <tr th:each=\"person : ${list}\">\n",
    "                        <td th:text=\"${person.id}\">Person ID</td>\n",
    "                        <td th:text=\"${person.email}\">Birth Date</td>\n",
    "                        <td th:text=\"${person.name}\">Name</td>\n",
    "                        <td th:if=\"${person.getAge() != -1}\" th:text=\"${person.getAge()}\">Age</td>\n",
    "                        <td th:unless=\"${person.getAge() != -1}\" th:text=\"Unknown\">Unknown Age</td>\n",
    "                        <td>\n",
    "                            <!--- <a th:href=\"@{/mvc/notes/{id}(id = ${person.id})}\">Notes</a> -->\n",
    "                            <a th:href=\"@{/mvc/person/update/{id}(id = ${person.id})}\">Update</a>\n",
    "                            <a th:href=\"@{/mvc/person/delete/{id}(id = ${person.id})}\">Delete</a>\n",
    "                        </td>\n",
    "                    </tr>\n",
    "                    </tbody>\n",
    "                </table>\n",
    "            </div>\n",
    "\n",
    "        </div>\n",
    "    </div>\n",
    "\n",
    "</th:block>\n",
    "</body>\n",
    "\n",
    "</html>"
   ]
  },
  {
   "cell_type": "markdown",
   "metadata": {},
   "source": [
    "## Hack\n",
    "Create a Thymeleaf template to display when a 403 error occurs (Extra indicators for adding another error code)."
   ]
  },
  {
   "cell_type": "code",
   "execution_count": null,
   "metadata": {
    "vscode": {
     "languageId": "html"
    }
   },
   "outputs": [],
   "source": [
    "<!DOCTYPE html>\n",
    "<html lang=\"en\" xmlns:th=\"http://www.thymeleaf.org\">\n",
    "<head>\n",
    "    <meta charset=\"UTF-8\">\n",
    "    <title>Access Denied</title>\n",
    "</head>\n",
    "<body>\n",
    "\n",
    "    <h1>Error 403: Access Denied</h1>\n",
    "    <p th:text=\"${error.message}\">Oops! You don't have permission to access this resource.</p>\n",
    "\n",
    "</body>\n",
    "</html>"
   ]
  },
  {
   "cell_type": "code",
   "execution_count": null,
   "metadata": {
    "vscode": {
     "languageId": "html"
    }
   },
   "outputs": [],
   "source": [
    "<!DOCTYPE html>\n",
    "<html lang=\"en\" xmlns:th=\"http://www.thymeleaf.org\">\n",
    "<head>\n",
    "    <meta charset=\"UTF-8\">\n",
    "    <title>Not Found</title>\n",
    "</head>\n",
    "<body>\n",
    "\n",
    "    <h1>Error 404: Not Found</h1>\n",
    "    <p th:text=\"${error.message}\">Oops! The requested resource could not be found.</p>\n",
    "\n",
    "</body>\n",
    "</html>\n"
   ]
  },
  {
   "cell_type": "code",
   "execution_count": null,
   "metadata": {
    "vscode": {
     "languageId": "java"
    }
   },
   "outputs": [],
   "source": [
    "import org.springframework.boot.web.error.ErrorAttributeOptions;\n",
    "import org.springframework.boot.web.servlet.error.ErrorController;\n",
    "import org.springframework.stereotype.Controller;\n",
    "import org.springframework.ui.Model;\n",
    "import org.springframework.web.bind.annotation.RequestMapping;\n",
    "import org.springframework.web.bind.annotation.ResponseStatus;\n",
    "\n",
    "import javax.servlet.RequestDispatcher;\n",
    "import javax.servlet.http.HttpServletRequest;\n",
    "\n",
    "@Controller\n",
    "public class CustomErrorController implements ErrorController {\n",
    "\n",
    "    @RequestMapping(\"/error\")\n",
    "    public String handleError(HttpServletRequest request, Model model) {\n",
    "        Object status = request.getAttribute(RequestDispatcher.ERROR_STATUS_CODE);\n",
    "\n",
    "        if (status != null) {\n",
    "            int statusCode = Integer.parseInt(status.toString());\n",
    "\n",
    "            if (statusCode == 403) {\n",
    "                model.addAttribute(\"error\", new AccessDeniedException(\"Access Denied\"));\n",
    "                return \"error403\";\n",
    "            } else if (statusCode == 404) {\n",
    "                model.addAttribute(\"error\", new ResourceNotFoundException(\"Resource Not Found\"));\n",
    "                return \"error404\";\n",
    "            }\n",
    "        }\n",
    "\n",
    "        return \"error\";\n",
    "    }\n",
    "\n",
    "    @Override\n",
    "    public String getErrorPath() {\n",
    "        return \"/error\";\n",
    "    }\n",
    "\n",
    "    @ResponseStatus(value = org.springframework.http.HttpStatus.FORBIDDEN, reason = \"Access Denied\")\n",
    "    private static class AccessDeniedException extends RuntimeException {\n",
    "        public AccessDeniedException(String message) {\n",
    "            super(message);\n",
    "        }\n",
    "    }\n",
    "\n",
    "    @ResponseStatus(value = org.springframework.http.HttpStatus.NOT_FOUND, reason = \"Resource Not Found\")\n",
    "    private static class ResourceNotFoundException extends RuntimeException {\n",
    "        public ResourceNotFoundException(String message) {\n",
    "            super(message);\n",
    "        }\n",
    "    }\n",
    "}\n"
   ]
  }
 ],
 "metadata": {
  "language_info": {
   "name": "python"
  }
 },
 "nbformat": 4,
 "nbformat_minor": 2
}
