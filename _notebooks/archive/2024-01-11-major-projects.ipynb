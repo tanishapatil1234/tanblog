{
 "cells": [
  {
   "cell_type": "markdown",
   "metadata": {},
   "source": [
    "---\n",
    "- title: Major CSA Projects\n",
    "- author: david\n",
    "- categories: [Lab Notebook]\n",
    "- tags: [Java]\n",
    "- type: tangibles\n",
    "- week: 0\n",
    "- description: Some major projects I've worked on throughout CSA\n",
    "- toc: True\n",
    "- comments: True\n",
    "- date: 2023-08-17 12:00:00 +0000\n",
    "- pin: true\n",
    "---"
   ]
  },
  {
   "cell_type": "markdown",
   "metadata": {},
   "source": [
    "## Dijkstra Simulation\n",
    "\n",
    "> This is my first trimester Dijkstra project. It simulates the Dijkstra algorithm using a visual graph to aid understanding.\n",
    "\n",
    "[Runtime](https://csa-tri-1.github.io/DADDiJkstra-frontend/pages/app)\n",
    "\n",
    "![](/assets/img/post_images/dijkstra.png)\n",
    "\n",
    "### Important Links\n",
    "\n",
    "- [Scrum Board](https://github.com/orgs/CSA-Tri-1/projects/3)\n",
    "- [Frontend Repo](https://github.com/CSA-Tri-1/DADDiJkstra-frontend)\n",
    "- [Backend Repo](https://github.com/CSA-Tri-1/DADDJbackend)"
   ]
  },
  {
   "cell_type": "markdown",
   "metadata": {},
   "source": [
    "## Sorting and Fibonacci\n",
    "\n",
    "> This project is a small project that I worked on to show visuals graphs of how sorting works and how fibonacci works as well.\n",
    "\n",
    "[Runtime](https://dea-frontend.vercel.app)\n",
    "\n",
    "![](/assets/img/post_images/sorting.png)\n",
    "\n",
    "### Important Links\n",
    "\n",
    "- [Frontend Repo](https://github.com/CSA-Tri-2/DEA-frontend)\n",
    "- [Backend Repo](https://github.com/CSA-Tri-2/DEA-project)\n",
    "- [Issues](https://github.com/CSA-Tri-2/DEA-project/issues)"
   ]
  },
  {
   "cell_type": "markdown",
   "metadata": {},
   "source": [
    "## Stock AI\n",
    "\n",
    "> This will be a program that uses deep learning to predict the value of numerous stocks.\n",
    "\n",
    "### Important Links\n",
    "\n",
    "- [Schedule](https://github.com/orgs/CSA-AI/projects/1)\n",
    "- [Backend Repo](https://github.com/CSA-AI/CSA_AI_Backend)"
   ]
  }
 ],
 "metadata": {
  "language_info": {
   "name": "python"
  }
 },
 "nbformat": 4,
 "nbformat_minor": 2
}
