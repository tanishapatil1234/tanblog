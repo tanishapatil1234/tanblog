{
 "cells": [
  {
   "cell_type": "markdown",
   "metadata": {},
   "source": [
    "---\n",
    "- title: Sorting Tests\n",
    "- author: david\n",
    "- categories: [Lab Notebook]\n",
    "- tags: [Project, Java]\n",
    "- type: tangibles\n",
    "- week: 14\n",
    "- description: Lesson for SASS.\n",
    "- toc: True\n",
    "- comments: True\n",
    "- date: 2023-11-30 12:00:00 +0000\n",
    "---"
   ]
  },
  {
   "cell_type": "code",
   "execution_count": 14,
   "metadata": {},
   "outputs": [
    {
     "name": "stdout",
     "output_type": "stream",
     "text": [
      "12 11 13 5 6 \n",
      "5 6 11 12 13 \n"
     ]
    }
   ],
   "source": [
    "class Sort {\n",
    "  public void insertion(int arr[]) {\n",
    "    int n = arr.length;\n",
    "    for (int i = 1; i < n; i++) {\n",
    "      int x = arr[i];\n",
    "      int j = i - 1;\n",
    "  \n",
    "      while (j >= 0 && arr[j] > x) {\n",
    "        arr[j + 1] = arr[j];\n",
    "        j = j - 1;\n",
    "      }\n",
    "      arr[j + 1] = x;\n",
    "    }\n",
    "  }\n",
    "\n",
    "  static void printArray(int arr[])\n",
    "    {\n",
    "        int n = arr.length;\n",
    "        for (int i = 0; i < n; ++i)\n",
    "            System.out.print(arr[i] + \" \");\n",
    " \n",
    "        System.out.println();\n",
    "    }\n",
    " \n",
    "    // Driver method\n",
    "    public static void main(String args[])\n",
    "    {\n",
    "        int arr[] = { 12, 11, 13, 5, 6 };\n",
    "\n",
    "        printArray(arr);\n",
    "\n",
    "        Sort ob = new Sort();\n",
    "        ob.insertion(arr);\n",
    " \n",
    "        printArray(arr);\n",
    "    }\n",
    "}\n",
    "\n",
    "Sort.main(null);"
   ]
  },
  {
   "cell_type": "code",
   "execution_count": 1,
   "metadata": {},
   "outputs": [
    {
     "name": "stdout",
     "output_type": "stream",
     "text": [
      "Sorted array: \n",
      "11 12 22 25 34 64 90 \n"
     ]
    }
   ],
   "source": [
    "class GFG {\n",
    "     \n",
    "  // An optimized version of Bubble Sort\n",
    "  static void bubbleSort(int arr[], int n)\n",
    "  {\n",
    "      int i, j, temp;\n",
    "      boolean swapped;\n",
    "      for (i = 0; i < n - 1; i++) {\n",
    "          swapped = false;\n",
    "          for (j = 0; j < n - i - 1; j++) {\n",
    "              if (arr[j] > arr[j + 1]) {\n",
    "                   \n",
    "                  // Swap arr[j] and arr[j+1]\n",
    "                  temp = arr[j];\n",
    "                  arr[j] = arr[j + 1];\n",
    "                  arr[j + 1] = temp;\n",
    "                  swapped = true;\n",
    "              }\n",
    "          }\n",
    "\n",
    "          // If no two elements were\n",
    "          // swapped by inner loop, then break\n",
    "          if (swapped == false)\n",
    "              break;\n",
    "      }\n",
    "  }\n",
    "\n",
    "  // Function to print an array\n",
    "  static void printArray(int arr[], int size)\n",
    "  {\n",
    "      int i;\n",
    "      for (i = 0; i < size; i++)\n",
    "          System.out.print(arr[i] + \" \");\n",
    "      System.out.println();\n",
    "  }\n",
    "\n",
    "  // Driver program\n",
    "  public static void main(String args[])\n",
    "  {\n",
    "      int arr[] = { 64, 34, 25, 12, 22, 11, 90 };\n",
    "      int n = arr.length;\n",
    "      bubbleSort(arr, n);\n",
    "      System.out.println(\"Sorted array: \");\n",
    "      printArray(arr, n);\n",
    "  }\n",
    "}\n",
    "\n",
    "GFG.main(null);"
   ]
  }
 ],
 "metadata": {
  "kernelspec": {
   "display_name": "Java",
   "language": "java",
   "name": "java"
  },
  "language_info": {
   "codemirror_mode": "java",
   "file_extension": ".jshell",
   "mimetype": "text/x-java-source",
   "name": "java",
   "pygments_lexer": "java",
   "version": "11.0.20.1+1-post-Ubuntu-0ubuntu122.04"
  }
 },
 "nbformat": 4,
 "nbformat_minor": 2
}
