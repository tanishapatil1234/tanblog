{
 "cells": [
  {
   "cell_type": "markdown",
   "metadata": {},
   "source": [
    "---\n",
    "- title: HTML/JavaScript for User Profile\n",
    "- author: david\n",
    "- categories: [Lab Notebook]\n",
    "- tags: [Java]\n",
    "- type: tangibles\n",
    "- week: 18\n",
    "- description: Lesson on updating/deleting user info through HTML/JS and adding user stats.\n",
    "- toc: True\n",
    "- comments: True\n",
    "- date: 2024-01-21 12:00:00 +0000\n",
    "---"
   ]
  },
  {
   "cell_type": "markdown",
   "metadata": {},
   "source": [
    "## Update/Delete User Info\n",
    "> In this section we will be explaining how data for the user would be updated and deleted in the Java Springboot backend.\n",
    "\n",
    "First, make sure you have this repository cloned so that you can see the code working in real time: `git clone https://github.com/CSA-AI/CSA_AI_lessonBackend.git`"
   ]
  },
  {
   "cell_type": "markdown",
   "metadata": {},
   "source": [
    "### Update Through API Requests\n",
    "> This is how the user would update data specific to their profile using a PUT request which communicates to the Springboot server.\n",
    "\n",
    "![Image](https://github.com/CSA-AI/CSA_AI/assets/111480448/277b757c-8879-4b17-9ea5-bc94aace2b21)\n",
    "\n",
    "- putmapping then we put the url that we wantt to go to thru response entity\n",
    "- we use the things that we wanna modify\n",
    "- findbyEmail, how we find the person (thru JPA repo)\n",
    "- JPA set functions, modifying the parts of the things we want\n",
    "- creates a new person object (person), searches for the object that has the same email in the database, then edit the specific values in the db and saves it "
   ]
  },
  {
   "cell_type": "markdown",
   "metadata": {},
   "source": [
    "<body>\n",
    "    <h2>Password Update</h2>\n",
    "    <label for=\"email\">Email:</label>\n",
    "    <input type=\"email\" id=\"email\" name=\"email\" value=\"toby@gmail.com\" readonly><br>\n",
    "    <label for=\"password\">New Password:</label>\n",
    "    <input type=\"password\" id=\"password\" name=\"password\" value=\"test@123\"><br>\n",
    "    <label for=\"name\">New Name:</label>\n",
    "    <input type=\"text\" id=\"name\" name=\"name\" value=\"Test Test\"><br>\n",
    "    <button onclick=\"updatePassword()\">Update</button>\n",
    "    <p id=\"updateMessage\"></p>\n",
    "    <script>\n",
    "        function updatePassword() {\n",
    "            const url = 'http://localhost:8085/api/person/update';\n",
    "            const email = document.getElementById(\"email\").value;\n",
    "            const newPassword = document.getElementById(\"password\").value;\n",
    "            const newName = document.getElementById(\"name\").value;\n",
    "            const params = new URLSearchParams();\n",
    "            params.append('email', email);\n",
    "            params.append('password', newPassword);\n",
    "            params.append('name', newName);\n",
    "            fetch(url, {\n",
    "                method: 'PUT',\n",
    "                body: params,\n",
    "            })\n",
    "                .then(response => response.json())\n",
    "                .then(data => {\n",
    "                    const updateMessage = \"Updating email to: \" + data.email;\n",
    "                    document.getElementById(\"updateMessage\").innerHTML = updateMessage;\n",
    "                })\n",
    "                .catch(error => console.error('Error:', error));\n",
    "        }\n",
    "    </script>\n",
    "</body>"
   ]
  },
  {
   "cell_type": "markdown",
   "metadata": {},
   "source": [
    "### Delete\n",
    "\n",
    "searches by id and deletes that entire person object"
   ]
  },
  {
   "cell_type": "markdown",
   "metadata": {},
   "source": [
    "<body>\n",
    "    <h2>User Delete</h2>\n",
    "    <label for=\"email\">Email:</label>\n",
    "    <input type=\"email\" id=\"email\" name=\"email\" value=\"toby@gmail.com\" readonly><br>\n",
    "    <label for=\"password\">New Password:</label>\n",
    "    <input type=\"password\" id=\"password\" name=\"password\" value=\"test@123\"><br>\n",
    "    <label for=\"name\">New Name:</label>\n",
    "    <input type=\"text\" id=\"name\" name=\"name\" value=\"Test Test\"><br>\n",
    "    <button onclick=\"updatePassword()\">Delete</button>\n",
    "    <p id=\"updateMessage\"></p>\n",
    "    <script>\n",
    "        function updatePassword() {\n",
    "            const url = 'http://localhost:8085/api/person/update';\n",
    "            const email = document.getElementById(\"email\").value;\n",
    "            const newPassword = document.getElementById(\"password\").value;\n",
    "            const newName = document.getElementById(\"name\").value;\n",
    "            const params = new URLSearchParams();\n",
    "            params.append('email', email);\n",
    "            params.append('password', newPassword);\n",
    "            params.append('name', newName);\n",
    "            fetch(url, {\n",
    "                method: 'PUT',\n",
    "                body: params,\n",
    "            })\n",
    "                .then(response => response.json())\n",
    "                .then(data => {\n",
    "                    const updateMessage = \"Updating email to: \" + data.email;\n",
    "                    document.getElementById(\"updateMessage\").innerHTML = updateMessage;\n",
    "                })\n",
    "                .catch(error => console.error('Error:', error));\n",
    "        }\n",
    "    </script>\n",
    "</body>"
   ]
  }
 ],
 "metadata": {
  "kernelspec": {
   "display_name": "base",
   "language": "python",
   "name": "python3"
  },
  "language_info": {
   "codemirror_mode": {
    "name": "ipython",
    "version": 3
   },
   "file_extension": ".py",
   "mimetype": "text/x-python",
   "name": "python",
   "nbconvert_exporter": "python",
   "pygments_lexer": "ipython3",
   "version": "3.9.12"
  }
 },
 "nbformat": 4,
 "nbformat_minor": 2
}
