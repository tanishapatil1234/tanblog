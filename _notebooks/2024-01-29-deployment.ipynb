{
 "cells": [
  {
   "cell_type": "markdown",
   "metadata": {},
   "source": [
    "---\n",
    "- title: Deployment\n",
    "- author: david\n",
    "- categories: [Lab Notebook]\n",
    "- tags: [Java, AWS, Deployment]\n",
    "- type: tangibles\n",
    "- week: 19\n",
    "- description: Key concepts of deploying springboot server.\n",
    "- toc: True\n",
    "- comments: True\n",
    "- date: 2024-01-29 12:00:00 +0000\n",
    "---"
   ]
  },
  {
   "cell_type": "markdown",
   "metadata": {},
   "source": [
    "- Show JWT signup and/or login process\n",
    "- Explain a POJO and changes to a POJO\n",
    "- Explain security configuration rules that are required for access\n",
    "- Describe docker and process for update docker application\n",
    "- Describe route 53 and process for domain setup\n",
    "- Show API access code and error handling, specifically redirect on 403\n",
    "- Describe managing CORS policies through Nginx and Java\n",
    "- Describe reverse proxy of server_name to proxy_pass"
   ]
  }
 ],
 "metadata": {
  "language_info": {
   "name": "python"
  }
 },
 "nbformat": 4,
 "nbformat_minor": 2
}
